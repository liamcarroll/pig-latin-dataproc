{
  "nbformat": 4,
  "nbformat_minor": 0,
  "metadata": {
    "colab": {
      "provenance": [],
      "collapsed_sections": [],
      "toc_visible": true,
      "include_colab_link": true
    },
    "kernelspec": {
      "name": "python3",
      "display_name": "Python 3"
    }
  },
  "cells": [
    {
      "cell_type": "markdown",
      "metadata": {
        "id": "view-in-github",
        "colab_type": "text"
      },
      "source": [
        "<a href=\"https://colab.research.google.com/github/liamcarroll/pig-latin-dataproc/blob/main/recsys.ipynb\" target=\"_parent\"><img src=\"https://colab.research.google.com/assets/colab-badge.svg\" alt=\"Open In Colab\"/></a>"
      ]
    },
    {
      "cell_type": "markdown",
      "metadata": {
        "id": "7gKCIaWZdmw1"
      },
      "source": [
        "## Import everything we need"
      ]
    },
    {
      "cell_type": "code",
      "metadata": {
        "colab": {
          "base_uri": "https://localhost:8080/"
        },
        "id": "FA0bymt9nG0U",
        "outputId": "cb23f353-a2e4-4ec3-9547-911bbfc1bcec"
      },
      "source": [
        "import os\n",
        "import matplotlib.pyplot as plt\n",
        "import seaborn as sns\n",
        "from __future__ import print_function\n",
        "import numpy as np\n",
        "import pandas as pd\n",
        "import collections\n",
        "from mpl_toolkits.mplot3d import Axes3D\n",
        "from IPython import display\n",
        "from matplotlib import pyplot as plt\n",
        "import sklearn\n",
        "import sklearn.manifold\n",
        "import tensorflow.compat.v1 as tf\n",
        "tf.disable_v2_behavior()\n",
        "tf.logging.set_verbosity(tf.logging.ERROR)\n",
        "\n",
        "# Add some convenience functions to Pandas DataFrame.\n",
        "pd.options.display.max_rows = 10\n",
        "pd.options.display.float_format = '{:.3f}'.format\n",
        "def mask(df, key, function):\n",
        "  \"\"\"Returns a filtered dataframe, by applying function to key\"\"\"\n",
        "  return df[function(df[key])]\n",
        "\n",
        "def flatten_cols(df):\n",
        "  df.columns = [' '.join(col).strip() for col in df.columns.values]\n",
        "  return df\n",
        "\n",
        "pd.DataFrame.mask = mask\n",
        "pd.DataFrame.flatten_cols = flatten_cols\n",
        "\n",
        "# Install Altair and activate its colab renderer.\n",
        "print(\"Installing Altair...\")\n",
        "!pip install git+git://github.com/altair-viz/altair.git\n",
        "import altair as alt\n",
        "alt.data_transformers.enable('default', max_rows=None)\n",
        "alt.renderers.enable('colab')\n",
        "print(\"Done installing Altair.\")"
      ],
      "execution_count": null,
      "outputs": [
        {
          "output_type": "stream",
          "text": [
            "WARNING:tensorflow:From /usr/local/lib/python3.6/dist-packages/tensorflow/python/compat/v2_compat.py:96: disable_resource_variables (from tensorflow.python.ops.variable_scope) is deprecated and will be removed in a future version.\n",
            "Instructions for updating:\n",
            "non-resource variables are not supported in the long term\n",
            "Installing Altair...\n",
            "Collecting git+git://github.com/altair-viz/altair.git\n",
            "  Cloning git://github.com/altair-viz/altair.git to /tmp/pip-req-build-hbemxgpc\n",
            "  Running command git clone -q git://github.com/altair-viz/altair.git /tmp/pip-req-build-hbemxgpc\n",
            "  Installing build dependencies ... \u001b[?25l\u001b[?25hdone\n",
            "  Getting requirements to build wheel ... \u001b[?25l\u001b[?25hdone\n",
            "    Preparing wheel metadata ... \u001b[?25l\u001b[?25hdone\n",
            "Requirement already satisfied (use --upgrade to upgrade): altair==4.2.0.dev0 from git+git://github.com/altair-viz/altair.git in /usr/local/lib/python3.6/dist-packages\n",
            "Requirement already satisfied: entrypoints in /usr/local/lib/python3.6/dist-packages (from altair==4.2.0.dev0) (0.3)\n",
            "Requirement already satisfied: toolz in /usr/local/lib/python3.6/dist-packages (from altair==4.2.0.dev0) (0.11.1)\n",
            "Requirement already satisfied: jsonschema in /usr/local/lib/python3.6/dist-packages (from altair==4.2.0.dev0) (2.6.0)\n",
            "Requirement already satisfied: pandas>=0.18 in /usr/local/lib/python3.6/dist-packages (from altair==4.2.0.dev0) (1.1.5)\n",
            "Requirement already satisfied: numpy in /usr/local/lib/python3.6/dist-packages (from altair==4.2.0.dev0) (1.19.4)\n",
            "Requirement already satisfied: jinja2 in /usr/local/lib/python3.6/dist-packages (from altair==4.2.0.dev0) (2.11.2)\n",
            "Requirement already satisfied: python-dateutil>=2.7.3 in /usr/local/lib/python3.6/dist-packages (from pandas>=0.18->altair==4.2.0.dev0) (2.8.1)\n",
            "Requirement already satisfied: pytz>=2017.2 in /usr/local/lib/python3.6/dist-packages (from pandas>=0.18->altair==4.2.0.dev0) (2018.9)\n",
            "Requirement already satisfied: MarkupSafe>=0.23 in /usr/local/lib/python3.6/dist-packages (from jinja2->altair==4.2.0.dev0) (1.1.1)\n",
            "Requirement already satisfied: six>=1.5 in /usr/local/lib/python3.6/dist-packages (from python-dateutil>=2.7.3->pandas>=0.18->altair==4.2.0.dev0) (1.15.0)\n",
            "Building wheels for collected packages: altair\n",
            "  Building wheel for altair (PEP 517) ... \u001b[?25l\u001b[?25hdone\n",
            "  Created wheel for altair: filename=altair-4.2.0.dev0-cp36-none-any.whl size=730117 sha256=7c02e7df2288d8992efd5fa11230e3465e2b775ac2b07daa5a81e857241f400f\n",
            "  Stored in directory: /tmp/pip-ephem-wheel-cache-2fjcq127/wheels/01/fd/91/025b6149b3949af76e93b3b3ceca5bf12cbdebc98fa46f9ec6\n",
            "Successfully built altair\n",
            "Done installing Altair.\n"
          ],
          "name": "stdout"
        }
      ]
    },
    {
      "cell_type": "markdown",
      "metadata": {
        "id": "il0nB5cedvbt"
      },
      "source": [
        "## Mount Drive"
      ]
    },
    {
      "cell_type": "code",
      "metadata": {
        "colab": {
          "base_uri": "https://localhost:8080/"
        },
        "id": "Lo71qEm0nI0Q",
        "outputId": "3f6ab5e1-298f-4794-e8b4-5908542ba862"
      },
      "source": [
        "from google.colab import drive\n",
        "drive.mount('/content/drive', force_remount=True)"
      ],
      "execution_count": null,
      "outputs": [
        {
          "output_type": "stream",
          "text": [
            "Mounted at /content/drive\n"
          ],
          "name": "stdout"
        }
      ]
    },
    {
      "cell_type": "code",
      "metadata": {
        "id": "q3UlQ1TdnLHR"
      },
      "source": [
        "os.chdir('/content/drive/My Drive/CA4015/Assignment_4/')\n",
        "#os.chdir('/content/drive/My Drive/College - 4th Year/CA4015_AdvancedML/Assignment_4/') # Liam"
      ],
      "execution_count": null,
      "outputs": []
    },
    {
      "cell_type": "markdown",
      "metadata": {
        "id": "gV59lUcdIGBg"
      },
      "source": [
        "## Section II - Preliminaries\n",
        "\n"
      ]
    },
    {
      "cell_type": "markdown",
      "metadata": {
        "id": "COTKj9BhfQZq"
      },
      "source": [
        "## Build Sparse Tensor"
      ]
    },
    {
      "cell_type": "markdown",
      "metadata": {
        "id": "92Q4Mvc7dy_v"
      },
      "source": [
        "The ratings matrix we build will be quite large, with lots of unobserved entries, as users will only have ratings for a relatively small subset of artists. Therefore it makes to sense to use a Tensorflow Sparse Tensor for an efficient representation of the data. "
      ]
    },
    {
      "cell_type": "code",
      "metadata": {
        "id": "v6eIS_YynTy8"
      },
      "source": [
        "def build_rating_sparse_tensor(user_artists_df):\n",
        "\n",
        "  indices = user_artists_df[['userID', 'artistID']].values\n",
        "  values = user_artists_df['weight'].values\n",
        "\n",
        "  return tf.SparseTensor(\n",
        "      indices=indices,\n",
        "      values=values,\n",
        "      dense_shape=[len(user_artists.userID.unique()), artists.shape[0]])"
      ],
      "execution_count": null,
      "outputs": []
    },
    {
      "cell_type": "markdown",
      "metadata": {
        "id": "-0iyfFp0d_I-"
      },
      "source": [
        "Load all of our nice clean data"
      ]
    },
    {
      "cell_type": "code",
      "metadata": {
        "id": "ZfheHPyWoMRI"
      },
      "source": [
        "user_artists = pd.read_csv('data_clean/user_artists_0041.csv')\n",
        "user_friends = pd.read_csv('data_clean/user_friends.csv')\n",
        "u_t_artists = pd.read_csv('data_clean/u_t_artists.csv')\n",
        "uta_timestamps = pd.read_csv('data_clean/uta_timestamps.csv')\n",
        "artists = pd.read_csv('data_clean/artists.csv')\n",
        "tags = pd.read_csv('data_clean/tags.csv')"
      ],
      "execution_count": null,
      "outputs": []
    },
    {
      "cell_type": "markdown",
      "metadata": {
        "id": "u_NEEEV3fFVZ"
      },
      "source": [
        "## Mean Square Error\n",
        "We need a method for measuring the approximation error in our model. We will be using Mean Square Error, defined below\n",
        "\n",
        "$$\n",
        "\\begin{align*}\n",
        "\\text{MSE}(A, UV^\\top)\n",
        "&= \\frac{1}{|\\Omega|}\\sum_{(i, j) \\in\\Omega}{( A_{ij} - (UV^\\top)_{ij})^2} \\\\\n",
        "&= \\frac{1}{|\\Omega|}\\sum_{(i, j) \\in\\Omega}{( A_{ij} - \\langle U_i, V_j\\rangle)^2}\n",
        "\\end{align*}\n",
        "$$\n",
        "where $\\Omega$ is the set of observed ratings, and $|\\Omega|$ is the cardinality of $\\Omega$."
      ]
    },
    {
      "cell_type": "markdown",
      "metadata": {
        "id": "JpXFU_aVfryU"
      },
      "source": [
        "This function below will calculate our Mean Square Error"
      ]
    },
    {
      "cell_type": "code",
      "metadata": {
        "id": "6Z0m3dL88Uxd"
      },
      "source": [
        "def sparse_mean_square_error(sparse_ratings, user_embeddings, music_embeddings):\n",
        "\n",
        "  predictions = tf.reduce_sum(\n",
        "      tf.gather(user_embeddings, sparse_ratings.indices[:, 0]) *\n",
        "      tf.gather(music_embeddings, sparse_ratings.indices[:, 1]),\n",
        "      axis=1)\n",
        "  loss = tf.losses.mean_squared_error(sparse_ratings.values, predictions)\n",
        "  return loss"
      ],
      "execution_count": null,
      "outputs": []
    },
    {
      "cell_type": "markdown",
      "metadata": {
        "id": "cWgvniHm_eKm"
      },
      "source": [
        "## Section III - Training Factorization Model\n",
        "\n",
        "Collaborative Filtering Model \n",
        "\n",
        "This class trains a matrix factorization model using stochastic gradient descent."
      ]
    },
    {
      "cell_type": "code",
      "metadata": {
        "id": "alLw1JuJpb8v",
        "cellView": "code"
      },
      "source": [
        "class CFModel(object):\n",
        "  \"\"\"Simple class that represents a collaborative filtering model\"\"\"\n",
        "  def __init__(self, embedding_vars, loss, metrics=None):\n",
        "    \"\"\"Initializes a CFModel.\n",
        "    Args:\n",
        "      embedding_vars: A dictionary of tf.Variables.\n",
        "      loss: A float Tensor. The loss to optimize.\n",
        "      metrics: optional list of dictionaries of Tensors. The metrics in each\n",
        "        dictionary will be plotted in a separate figure during training.\n",
        "    \"\"\"\n",
        "    self._embedding_vars = embedding_vars\n",
        "    self._loss = loss\n",
        "    self._metrics = metrics\n",
        "    self._embeddings = {k: None for k in embedding_vars}\n",
        "    self._session = None\n",
        "\n",
        "  @property\n",
        "  def embeddings(self):\n",
        "    \"\"\"The embeddings dictionary.\"\"\"\n",
        "    return self._embeddings\n",
        "\n",
        "  def train(self, num_iterations=100, learning_rate=1.0, plot_results=True,\n",
        "            optimizer=tf.train.GradientDescentOptimizer):\n",
        "    \"\"\"Trains the model.\n",
        "    Args:\n",
        "      iterations: number of iterations to run.\n",
        "      learning_rate: optimizer learning rate.\n",
        "      plot_results: whether to plot the results at the end of training.\n",
        "      optimizer: the optimizer to use. Default to GradientDescentOptimizer.\n",
        "    Returns:\n",
        "      The metrics dictionary evaluated at the last iteration.\n",
        "    \"\"\"\n",
        "    with self._loss.graph.as_default():\n",
        "      opt = optimizer(learning_rate)\n",
        "      train_op = opt.minimize(self._loss)\n",
        "      local_init_op = tf.group(\n",
        "          tf.variables_initializer(opt.variables()),\n",
        "          tf.local_variables_initializer())\n",
        "      if self._session is None:\n",
        "        self._session = tf.Session()\n",
        "        with self._session.as_default():\n",
        "          self._session.run(tf.global_variables_initializer())\n",
        "          self._session.run(tf.tables_initializer())\n",
        "          tf.train.start_queue_runners()\n",
        "\n",
        "    with self._session.as_default():\n",
        "      local_init_op.run()\n",
        "      iterations = []\n",
        "      metrics = self._metrics or ({},)\n",
        "      metrics_vals = [collections.defaultdict(list) for _ in self._metrics]\n",
        "\n",
        "      # Train and append results.\n",
        "      for i in range(num_iterations + 1):\n",
        "        _, results = self._session.run((train_op, metrics))\n",
        "        if (i % 10 == 0) or i == num_iterations:\n",
        "          print(\"\\r iteration %d: \" % i + \", \".join(\n",
        "                [\"%s=%f\" % (k, v) for r in results for k, v in r.items()]),\n",
        "                end='')\n",
        "          iterations.append(i)\n",
        "          for metric_val, result in zip(metrics_vals, results):\n",
        "            for k, v in result.items():\n",
        "              metric_val[k].append(v)\n",
        "\n",
        "      for k, v in self._embedding_vars.items():\n",
        "        self._embeddings[k] = v.eval()\n",
        "\n",
        "      if plot_results:\n",
        "        # Plot the metrics.\n",
        "        num_subplots = len(metrics)+1\n",
        "        fig = plt.figure()\n",
        "        fig.set_size_inches(num_subplots*10, 8)\n",
        "        for i, metric_vals in enumerate(metrics_vals):\n",
        "          ax = fig.add_subplot(1, num_subplots, i+1)\n",
        "          for k, v in metric_vals.items():\n",
        "            ax.plot(iterations, v, label=k)\n",
        "          ax.set_xlim([1, num_iterations])\n",
        "          ax.legend()\n",
        "      return results"
      ],
      "execution_count": null,
      "outputs": []
    },
    {
      "cell_type": "markdown",
      "metadata": {
        "id": "Bk9D1emYj9tY"
      },
      "source": [
        "## Building the Model\n",
        "\n",
        "Now we define a function to build our model, using the Mean Square Error function and the Sparse Tensor function to build our model"
      ]
    },
    {
      "cell_type": "code",
      "metadata": {
        "id": "LE_PT8e2pu4Y"
      },
      "source": [
        "def build_model(ratings, embedding_dim=3, init_stddev=1.):\n",
        "\n",
        "  # Split the ratings DataFrame into train and test.\n",
        "  train_ratings, test_ratings = split_dataframe(ratings)\n",
        "  # SparseTensor representation of the train and test datasets.\n",
        "  A_train = build_rating_sparse_tensor(train_ratings)\n",
        "  A_test = build_rating_sparse_tensor(test_ratings)\n",
        "  # Initialize the embeddings using a normal distribution.\n",
        "  U = tf.Variable(tf.random.normal(\n",
        "      [A_train.dense_shape[0], embedding_dim], stddev=init_stddev))\n",
        "  V = tf.Variable(tf.random.normal(\n",
        "      [A_train.dense_shape[1], embedding_dim], stddev=init_stddev))\n",
        "  train_loss = sparse_mean_square_error(A_train, U, V)\n",
        "  test_loss = sparse_mean_square_error(A_test, U, V)\n",
        "  metrics = {\n",
        "      'train_error': train_loss,\n",
        "      'test_error': test_loss\n",
        "  }\n",
        "  embeddings = {\n",
        "      \"userID\": U,\n",
        "      \"artistID\": V\n",
        "  }\n",
        "  return CFModel(embeddings, train_loss, [metrics])"
      ],
      "execution_count": null,
      "outputs": []
    },
    {
      "cell_type": "markdown",
      "metadata": {
        "id": "NMgKD3wnkf8A"
      },
      "source": [
        "This is a simple function that will split the data into a training and test set, we will need these to train and test the models. It is used by the previous defined function, build_model"
      ]
    },
    {
      "cell_type": "code",
      "metadata": {
        "id": "GwW3bJT5rC1L"
      },
      "source": [
        "def split_dataframe(df, holdout_fraction=0.1):\n",
        "  \n",
        "  test = df.sample(frac=holdout_fraction, replace=False)\n",
        "  train = df[~df.index.isin(test.index)]\n",
        "  return train, test"
      ],
      "execution_count": null,
      "outputs": []
    },
    {
      "cell_type": "markdown",
      "metadata": {
        "id": "mmwhYh0-gzEA"
      },
      "source": [
        "We now want to drop any columns in the data that we don't need. For our Collaborative Filtering we only need User ID, Artist ID and the weight or rating"
      ]
    },
    {
      "cell_type": "code",
      "metadata": {
        "id": "NE39arZ3ziwZ"
      },
      "source": [
        "user_artists = user_artists[['userID', 'artistID', 'weight']]"
      ],
      "execution_count": null,
      "outputs": []
    },
    {
      "cell_type": "markdown",
      "metadata": {
        "id": "BTcAylsLk9vO"
      },
      "source": [
        "We make sure the columns are the correct data types for our model here. We need a String for User ID and Artist ID and a float for our weight."
      ]
    },
    {
      "cell_type": "code",
      "metadata": {
        "id": "WkfDYebtcqdb"
      },
      "source": [
        "user_artists['userID'] = user_artists['userID'].astype(str)\n",
        "user_artists['artistID'] = user_artists['artistID'].astype(str)\n",
        "user_artists['weight'] = user_artists['weight'].astype(float)\n",
        "user_artists = user_artists.sample(frac=1).reset_index(drop=True)"
      ],
      "execution_count": null,
      "outputs": []
    },
    {
      "cell_type": "markdown",
      "metadata": {
        "id": "4bWl9Te_hKrL"
      },
      "source": [
        "## Build and train the Collaborative Filtering Model"
      ]
    },
    {
      "cell_type": "code",
      "metadata": {
        "colab": {
          "base_uri": "https://localhost:8080/",
          "height": 501
        },
        "id": "qG5fKtqAzfHJ",
        "outputId": "e9b640a1-2e1a-4836-d527-babae8c6693f"
      },
      "source": [
        "model = build_model(user_artists, embedding_dim=30, init_stddev=0.5)\n",
        "model.train(num_iterations=1000, learning_rate=10.)"
      ],
      "execution_count": null,
      "outputs": [
        {
          "output_type": "stream",
          "text": [
            " iteration 1000: train_error=0.169348, test_error=3.810666"
          ],
          "name": "stdout"
        },
        {
          "output_type": "execute_result",
          "data": {
            "text/plain": [
              "[{'test_error': 3.810666, 'train_error': 0.16934827}]"
            ]
          },
          "metadata": {
            "tags": []
          },
          "execution_count": 11
        },
        {
          "output_type": "display_data",
          "data": {
            "image/png": "[encoded data removed]",
            "text/plain": [
              "<Figure size 1440x576 with 1 Axes>"
            ]
          },
          "metadata": {
            "tags": [],
            "needs_background": "light"
          }
        }
      ]
    },
    {
      "cell_type": "markdown",
      "metadata": {
        "id": "BHZK494Z_WO-"
      },
      "source": [
        "## Section IV - Inspect Embeddings"
      ]
    },
    {
      "cell_type": "code",
      "metadata": {
        "id": "Ly8ctzlC_knB"
      },
      "source": [
        "DOT = 'dot'\n",
        "COSINE = 'cosine'\n",
        "def compute_scores(query_embedding, item_embeddings, measure=DOT):\n",
        "\n",
        "  u = query_embedding\n",
        "  V = item_embeddings\n",
        "  if measure == COSINE:\n",
        "    V = V / np.linalg.norm(V, axis=1, keepdims=True)\n",
        "    u = u / np.linalg.norm(u)\n",
        "  scores = u.dot(V.T)\n",
        "  return scores"
      ],
      "execution_count": null,
      "outputs": []
    },
    {
      "cell_type": "code",
      "metadata": {
        "id": "i_qkyRyw_8T3"
      },
      "source": [
        "def artist_neighbors(model, title_substring, measure=DOT, k=6):\n",
        "  ids =  artists[artists['name'].str.contains(title_substring)].index.values\n",
        "  titles = artists.iloc[ids]['name'].values\n",
        "  if len(titles) == 0:\n",
        "    raise ValueError(\"Found no artist with title %s\" % title_substring)\n",
        "  print(\"Nearest neighbors of : %s.\" % titles[0])\n",
        "  if len(titles) > 1:\n",
        "    print(\"[Found more than one matching artist. Other candidates: {}]\".format(\n",
        "        \", \".join(titles[1:])))\n",
        "  artistID = ids[0]\n",
        "  scores = compute_scores(\n",
        "      model.embeddings[\"artistID\"][artistID], model.embeddings[\"artistID\"],\n",
        "      measure)\n",
        "  score_key = measure + ' score'\n",
        "  df = pd.DataFrame({\n",
        "      score_key: list(scores),\n",
        "      'names': artists['name'],\n",
        "  })\n",
        "  display.display(df.sort_values([score_key], ascending=False).head(k))"
      ],
      "execution_count": null,
      "outputs": []
    },
    {
      "cell_type": "code",
      "metadata": {
        "colab": {
          "base_uri": "https://localhost:8080/",
          "height": 521
        },
        "id": "vSrCpjSXAD7S",
        "outputId": "a2e7895b-1a63-4579-bbe0-e07481dc02db"
      },
      "source": [
        "artist_neighbors(model, \"The Beatles\", DOT)\n",
        "artist_neighbors(model, \"The Beatles\", COSINE)"
      ],
      "execution_count": null,
      "outputs": [
        {
          "output_type": "stream",
          "text": [
            "Nearest neighbors of : The Beatles.\n",
            "[Found more than one matching artist. Other candidates: The Beatles with Billy Preston]\n"
          ],
          "name": "stdout"
        },
        {
          "output_type": "display_data",
          "data": {
            "text/html": [
              "<div>\n",
              "<style scoped>\n",
              "    .dataframe tbody tr th:only-of-type {\n",
              "        vertical-align: middle;\n",
              "    }\n",
              "\n",
              "    .dataframe tbody tr th {\n",
              "        vertical-align: top;\n",
              "    }\n",
              "\n",
              "    .dataframe thead th {\n",
              "        text-align: right;\n",
              "    }\n",
              "</style>\n",
              "<table border=\"1\" class=\"dataframe\">\n",
              "  <thead>\n",
              "    <tr style=\"text-align: right;\">\n",
              "      <th></th>\n",
              "      <th>dot score</th>\n",
              "      <th>names</th>\n",
              "    </tr>\n",
              "  </thead>\n",
              "  <tbody>\n",
              "    <tr>\n",
              "      <th>221</th>\n",
              "      <td>7.986</td>\n",
              "      <td>The Beatles</td>\n",
              "    </tr>\n",
              "    <tr>\n",
              "      <th>148</th>\n",
              "      <td>6.583</td>\n",
              "      <td>Radiohead</td>\n",
              "    </tr>\n",
              "    <tr>\n",
              "      <th>157</th>\n",
              "      <td>5.994</td>\n",
              "      <td>Pink Floyd</td>\n",
              "    </tr>\n",
              "    <tr>\n",
              "      <th>505</th>\n",
              "      <td>5.907</td>\n",
              "      <td>U2</td>\n",
              "    </tr>\n",
              "    <tr>\n",
              "      <th>412</th>\n",
              "      <td>5.869</td>\n",
              "      <td>Sigur Rós</td>\n",
              "    </tr>\n",
              "    <tr>\n",
              "      <th>5572</th>\n",
              "      <td>5.859</td>\n",
              "      <td>Black Country Communion</td>\n",
              "    </tr>\n",
              "  </tbody>\n",
              "</table>\n",
              "</div>"
            ],
            "text/plain": [
              "      dot score                    names\n",
              "221       7.986              The Beatles\n",
              "148       6.583                Radiohead\n",
              "157       5.994               Pink Floyd\n",
              "505       5.907                       U2\n",
              "412       5.869                Sigur Rós\n",
              "5572      5.859  Black Country Communion"
            ]
          },
          "metadata": {
            "tags": []
          }
        },
        {
          "output_type": "stream",
          "text": [
            "Nearest neighbors of : The Beatles.\n",
            "[Found more than one matching artist. Other candidates: The Beatles with Billy Preston]\n"
          ],
          "name": "stdout"
        },
        {
          "output_type": "display_data",
          "data": {
            "text/html": [
              "<div>\n",
              "<style scoped>\n",
              "    .dataframe tbody tr th:only-of-type {\n",
              "        vertical-align: middle;\n",
              "    }\n",
              "\n",
              "    .dataframe tbody tr th {\n",
              "        vertical-align: top;\n",
              "    }\n",
              "\n",
              "    .dataframe thead th {\n",
              "        text-align: right;\n",
              "    }\n",
              "</style>\n",
              "<table border=\"1\" class=\"dataframe\">\n",
              "  <thead>\n",
              "    <tr style=\"text-align: right;\">\n",
              "      <th></th>\n",
              "      <th>cosine score</th>\n",
              "      <th>names</th>\n",
              "    </tr>\n",
              "  </thead>\n",
              "  <tbody>\n",
              "    <tr>\n",
              "      <th>221</th>\n",
              "      <td>1.000</td>\n",
              "      <td>The Beatles</td>\n",
              "    </tr>\n",
              "    <tr>\n",
              "      <th>148</th>\n",
              "      <td>0.878</td>\n",
              "      <td>Radiohead</td>\n",
              "    </tr>\n",
              "    <tr>\n",
              "      <th>176</th>\n",
              "      <td>0.808</td>\n",
              "      <td>Keane</td>\n",
              "    </tr>\n",
              "    <tr>\n",
              "      <th>157</th>\n",
              "      <td>0.800</td>\n",
              "      <td>Pink Floyd</td>\n",
              "    </tr>\n",
              "    <tr>\n",
              "      <th>59</th>\n",
              "      <td>0.781</td>\n",
              "      <td>Coldplay</td>\n",
              "    </tr>\n",
              "    <tr>\n",
              "      <th>703</th>\n",
              "      <td>0.781</td>\n",
              "      <td>The White Stripes</td>\n",
              "    </tr>\n",
              "  </tbody>\n",
              "</table>\n",
              "</div>"
            ],
            "text/plain": [
              "     cosine score              names\n",
              "221         1.000        The Beatles\n",
              "148         0.878          Radiohead\n",
              "176         0.808              Keane\n",
              "157         0.800         Pink Floyd\n",
              "59          0.781           Coldplay\n",
              "703         0.781  The White Stripes"
            ]
          },
          "metadata": {
            "tags": []
          }
        }
      ]
    },
    {
      "cell_type": "code",
      "metadata": {
        "colab": {
          "base_uri": "https://localhost:8080/",
          "height": 987
        },
        "id": "MT7UrR3YCYe5",
        "outputId": "0d155810-1f86-40c9-be35-45c170e95be0"
      },
      "source": [
        "model_lowinit = build_model(user_artists, embedding_dim=30, init_stddev=0.05)\n",
        "model_lowinit.train(num_iterations=1000, learning_rate=10.)\n",
        "artist_neighbors(model_lowinit, \"The Beatles\", DOT)\n",
        "artist_neighbors(model_lowinit, \"The Beatles\", COSINE)"
      ],
      "execution_count": null,
      "outputs": [
        {
          "output_type": "stream",
          "text": [
            " iteration 1000: train_error=0.287540, test_error=1.434729Nearest neighbors of : The Beatles.\n",
            "[Found more than one matching artist. Other candidates: The Beatles with Billy Preston]\n"
          ],
          "name": "stdout"
        },
        {
          "output_type": "display_data",
          "data": {
            "text/html": [
              "<div>\n",
              "<style scoped>\n",
              "    .dataframe tbody tr th:only-of-type {\n",
              "        vertical-align: middle;\n",
              "    }\n",
              "\n",
              "    .dataframe tbody tr th {\n",
              "        vertical-align: top;\n",
              "    }\n",
              "\n",
              "    .dataframe thead th {\n",
              "        text-align: right;\n",
              "    }\n",
              "</style>\n",
              "<table border=\"1\" class=\"dataframe\">\n",
              "  <thead>\n",
              "    <tr style=\"text-align: right;\">\n",
              "      <th></th>\n",
              "      <th>dot score</th>\n",
              "      <th>names</th>\n",
              "    </tr>\n",
              "  </thead>\n",
              "  <tbody>\n",
              "    <tr>\n",
              "      <th>221</th>\n",
              "      <td>15.698</td>\n",
              "      <td>The Beatles</td>\n",
              "    </tr>\n",
              "    <tr>\n",
              "      <th>83</th>\n",
              "      <td>4.880</td>\n",
              "      <td>Lady Gaga</td>\n",
              "    </tr>\n",
              "    <tr>\n",
              "      <th>950</th>\n",
              "      <td>4.850</td>\n",
              "      <td>Queen</td>\n",
              "    </tr>\n",
              "    <tr>\n",
              "      <th>227</th>\n",
              "      <td>4.802</td>\n",
              "      <td>Nine Inch Nails</td>\n",
              "    </tr>\n",
              "    <tr>\n",
              "      <th>698</th>\n",
              "      <td>4.524</td>\n",
              "      <td>The Pretty Reckless</td>\n",
              "    </tr>\n",
              "    <tr>\n",
              "      <th>45</th>\n",
              "      <td>4.205</td>\n",
              "      <td>Duran Duran</td>\n",
              "    </tr>\n",
              "  </tbody>\n",
              "</table>\n",
              "</div>"
            ],
            "text/plain": [
              "     dot score                names\n",
              "221     15.698          The Beatles\n",
              "83       4.880            Lady Gaga\n",
              "950      4.850                Queen\n",
              "227      4.802      Nine Inch Nails\n",
              "698      4.524  The Pretty Reckless\n",
              "45       4.205          Duran Duran"
            ]
          },
          "metadata": {
            "tags": []
          }
        },
        {
          "output_type": "stream",
          "text": [
            "Nearest neighbors of : The Beatles.\n",
            "[Found more than one matching artist. Other candidates: The Beatles with Billy Preston]\n"
          ],
          "name": "stdout"
        },
        {
          "output_type": "display_data",
          "data": {
            "text/html": [
              "<div>\n",
              "<style scoped>\n",
              "    .dataframe tbody tr th:only-of-type {\n",
              "        vertical-align: middle;\n",
              "    }\n",
              "\n",
              "    .dataframe tbody tr th {\n",
              "        vertical-align: top;\n",
              "    }\n",
              "\n",
              "    .dataframe thead th {\n",
              "        text-align: right;\n",
              "    }\n",
              "</style>\n",
              "<table border=\"1\" class=\"dataframe\">\n",
              "  <thead>\n",
              "    <tr style=\"text-align: right;\">\n",
              "      <th></th>\n",
              "      <th>cosine score</th>\n",
              "      <th>names</th>\n",
              "    </tr>\n",
              "  </thead>\n",
              "  <tbody>\n",
              "    <tr>\n",
              "      <th>221</th>\n",
              "      <td>1.000</td>\n",
              "      <td>The Beatles</td>\n",
              "    </tr>\n",
              "    <tr>\n",
              "      <th>15296</th>\n",
              "      <td>0.716</td>\n",
              "      <td>Dixie Dregs</td>\n",
              "    </tr>\n",
              "    <tr>\n",
              "      <th>13013</th>\n",
              "      <td>0.684</td>\n",
              "      <td>Nina Sky</td>\n",
              "    </tr>\n",
              "    <tr>\n",
              "      <th>2406</th>\n",
              "      <td>0.674</td>\n",
              "      <td>Billie Holiday &amp; Teddy Wilson &amp; His Orchestra</td>\n",
              "    </tr>\n",
              "    <tr>\n",
              "      <th>11292</th>\n",
              "      <td>0.669</td>\n",
              "      <td>Kazuhito Yamashita</td>\n",
              "    </tr>\n",
              "    <tr>\n",
              "      <th>8858</th>\n",
              "      <td>0.658</td>\n",
              "      <td>Lia</td>\n",
              "    </tr>\n",
              "  </tbody>\n",
              "</table>\n",
              "</div>"
            ],
            "text/plain": [
              "       cosine score                                          names\n",
              "221           1.000                                    The Beatles\n",
              "15296         0.716                                    Dixie Dregs\n",
              "13013         0.684                                       Nina Sky\n",
              "2406          0.674  Billie Holiday & Teddy Wilson & His Orchestra\n",
              "11292         0.669                             Kazuhito Yamashita\n",
              "8858          0.658                                            Lia"
            ]
          },
          "metadata": {
            "tags": []
          }
        },
        {
          "output_type": "display_data",
          "data": {
            "image/png": "[encoded data removed]",
            "text/plain": [
              "<Figure size 1440x576 with 1 Axes>"
            ]
          },
          "metadata": {
            "tags": [],
            "needs_background": "light"
          }
        }
      ]
    },
    {
      "cell_type": "markdown",
      "metadata": {
        "id": "SNWWqC7aGC6G"
      },
      "source": [
        "## Section V - Regularization in Matrix Factorization"
      ]
    },
    {
      "cell_type": "markdown",
      "metadata": {
        "id": "Covd21j-stQr"
      },
      "source": [
        "In the previous section, our loss was defined as the mean squared error on the observed part of the rating matrix. As discussed in the lecture, this can be problematic as the model does not learn how to place the embeddings of irrelevant movies. This phenomenon is known as folding.\n",
        "\n",
        "We will add regularization terms that will address this issue. We will use two types of regularization:\n",
        "\n",
        "Up until now we have been using Mean Square Error for our loss. This can cause problems however, as the model never learns how to place the embeddings for irrelevant movies in the dataset. This is known as \"folding\". There are two regularization terms we can add to help address this. \n",
        "\n",
        "Regularization of the model parameters, defined below:\n",
        "\n",
        "$r(U, V) =  \\frac{1}{N} \\sum_i \\|U_i\\|^2 + \\frac{1}{M}\\sum_j \\|V_j\\|^2$.\n",
        "\n",
        "A \"gravity\" term which is used to push the prediction of any pair towards zero, This is given by:\n",
        "\n",
        " $g(U, V) = \\frac{1}{MN} \\sum_{i = 1}^N \\sum_{j = 1}^M \\langle U_i, V_j \\rangle^2$.\n",
        "\n",
        "Therefore the total loss is now:\n",
        "\n",
        " $$\n",
        "\\frac{1}{|\\Omega|}\\sum_{(i, j) \\in \\Omega} (A_{ij} - \\langle U_i, V_j\\rangle)^2 + \\lambda _r r(U, V) + \\lambda_g g(U, V)\n",
        "$$\n",
        "\n",
        "where $\\lambda_r$ and $\\lambda_g$ are two regularization coefficients (hyper-parameters)."
      ]
    },
    {
      "cell_type": "code",
      "metadata": {
        "id": "uuxsFoqhDcyN",
        "cellView": "code"
      },
      "source": [
        "def gravity(U, V):\n",
        "  \"\"\"Creates a gravity loss given two embedding matrices.\"\"\"\n",
        "  return 1. / (U.shape[0].value*V.shape[0].value) * tf.reduce_sum(\n",
        "      tf.matmul(U, U, transpose_a=True) * tf.matmul(V, V, transpose_a=True))\n",
        "\n",
        "def build_regularized_model(\n",
        "    ratings, embedding_dim=3, regularization_coeff=.1, gravity_coeff=1.,\n",
        "    init_stddev=0.1):\n",
        "  # Split the ratings DataFrame into train and test.\n",
        "  train_ratings, test_ratings = split_dataframe(ratings)\n",
        "  # SparseTensor representation of the train and test datasets.\n",
        "  A_train = build_rating_sparse_tensor(train_ratings)\n",
        "  A_test = build_rating_sparse_tensor(test_ratings)\n",
        "  U = tf.Variable(tf.random_normal(\n",
        "      [A_train.dense_shape[0], embedding_dim], stddev=init_stddev))\n",
        "  V = tf.Variable(tf.random_normal(\n",
        "      [A_train.dense_shape[1], embedding_dim], stddev=init_stddev))\n",
        "\n",
        "  error_train = sparse_mean_square_error(A_train, U, V)\n",
        "  error_test = sparse_mean_square_error(A_test, U, V)\n",
        "  gravity_loss = gravity_coeff * gravity(U, V)\n",
        "  regularization_loss = regularization_coeff * (\n",
        "      tf.reduce_sum(U*U)/U.shape[0].value + tf.reduce_sum(V*V)/V.shape[0].value)\n",
        "  total_loss = error_train + regularization_loss + gravity_loss\n",
        "  losses = {\n",
        "      'train_error_observed': error_train,\n",
        "      'test_error_observed': error_test,\n",
        "  }\n",
        "  loss_components = {\n",
        "      'observed_loss': error_train,\n",
        "      'regularization_loss': regularization_loss,\n",
        "      'gravity_loss': gravity_loss,\n",
        "  }\n",
        "  embeddings = {\"userId\": U, \"artistID\": V}\n",
        "\n",
        "  return CFModel(embeddings, total_loss, [losses, loss_components]), U, V"
      ],
      "execution_count": null,
      "outputs": []
    },
    {
      "cell_type": "markdown",
      "metadata": {
        "id": "c0NulCIydj1U"
      },
      "source": [
        "Now we build and train this Regularized model"
      ]
    },
    {
      "cell_type": "code",
      "metadata": {
        "colab": {
          "base_uri": "https://localhost:8080/",
          "height": 551
        },
        "id": "ixKeB4lQFJbx",
        "outputId": "949cd09c-902c-4bdc-b76e-6b43055471fa"
      },
      "source": [
        "reg_model, u, v = build_regularized_model(\n",
        "    user_artists, regularization_coeff=0.1, gravity_coeff=1.0, embedding_dim=35,\n",
        "    init_stddev=.05)\n",
        "reg_model.train(num_iterations=2000, learning_rate=20.)"
      ],
      "execution_count": null,
      "outputs": [
        {
          "output_type": "stream",
          "text": [
            " iteration 2000: train_error_observed=0.144180, test_error_observed=2.168423, observed_loss=0.144180, regularization_loss=0.420827, gravity_loss=0.179640"
          ],
          "name": "stdout"
        },
        {
          "output_type": "execute_result",
          "data": {
            "text/plain": [
              "[{'test_error_observed': 2.1684232, 'train_error_observed': 0.14417969},\n",
              " {'gravity_loss': 0.17963986,\n",
              "  'observed_loss': 0.14417969,\n",
              "  'regularization_loss': 0.42082682}]"
            ]
          },
          "metadata": {
            "tags": []
          },
          "execution_count": 102
        },
        {
          "output_type": "display_data",
          "data": {
            "image/png": "[encoded data removed]",
            "text/plain": [
              "<Figure size 2160x576 with 2 Axes>"
            ]
          },
          "metadata": {
            "tags": [],
            "needs_background": "light"
          }
        }
      ]
    },
    {
      "cell_type": "code",
      "metadata": {
        "colab": {
          "base_uri": "https://localhost:8080/",
          "height": 487
        },
        "id": "S9VvthLcFNRW",
        "outputId": "1ca7d62d-8004-456c-fd21-2f3c0a9a5e7e"
      },
      "source": [
        "artist_neighbors(reg_model, \"The Smiths\", DOT)\n",
        "artist_neighbors(reg_model, \"The Smiths\", COSINE)"
      ],
      "execution_count": null,
      "outputs": [
        {
          "output_type": "stream",
          "text": [
            "Nearest neighbors of : The Smiths.\n"
          ],
          "name": "stdout"
        },
        {
          "output_type": "display_data",
          "data": {
            "text/html": [
              "<div>\n",
              "<style scoped>\n",
              "    .dataframe tbody tr th:only-of-type {\n",
              "        vertical-align: middle;\n",
              "    }\n",
              "\n",
              "    .dataframe tbody tr th {\n",
              "        vertical-align: top;\n",
              "    }\n",
              "\n",
              "    .dataframe thead th {\n",
              "        text-align: right;\n",
              "    }\n",
              "</style>\n",
              "<table border=\"1\" class=\"dataframe\">\n",
              "  <thead>\n",
              "    <tr style=\"text-align: right;\">\n",
              "      <th></th>\n",
              "      <th>dot score</th>\n",
              "      <th>names</th>\n",
              "    </tr>\n",
              "  </thead>\n",
              "  <tbody>\n",
              "    <tr>\n",
              "      <th>423</th>\n",
              "      <td>20.369</td>\n",
              "      <td>The Smiths</td>\n",
              "    </tr>\n",
              "    <tr>\n",
              "      <th>167</th>\n",
              "      <td>12.603</td>\n",
              "      <td>Placebo</td>\n",
              "    </tr>\n",
              "    <tr>\n",
              "      <th>66</th>\n",
              "      <td>11.923</td>\n",
              "      <td>Depeche Mode</td>\n",
              "    </tr>\n",
              "    <tr>\n",
              "      <th>197</th>\n",
              "      <td>11.619</td>\n",
              "      <td>Blur</td>\n",
              "    </tr>\n",
              "    <tr>\n",
              "      <th>527</th>\n",
              "      <td>11.370</td>\n",
              "      <td>Oasis</td>\n",
              "    </tr>\n",
              "    <tr>\n",
              "      <th>2511</th>\n",
              "      <td>11.174</td>\n",
              "      <td>Morrissey</td>\n",
              "    </tr>\n",
              "  </tbody>\n",
              "</table>\n",
              "</div>"
            ],
            "text/plain": [
              "      dot score         names\n",
              "423      20.369    The Smiths\n",
              "167      12.603       Placebo\n",
              "66       11.923  Depeche Mode\n",
              "197      11.619          Blur\n",
              "527      11.370         Oasis\n",
              "2511     11.174     Morrissey"
            ]
          },
          "metadata": {
            "tags": []
          }
        },
        {
          "output_type": "stream",
          "text": [
            "Nearest neighbors of : The Smiths.\n"
          ],
          "name": "stdout"
        },
        {
          "output_type": "display_data",
          "data": {
            "text/html": [
              "<div>\n",
              "<style scoped>\n",
              "    .dataframe tbody tr th:only-of-type {\n",
              "        vertical-align: middle;\n",
              "    }\n",
              "\n",
              "    .dataframe tbody tr th {\n",
              "        vertical-align: top;\n",
              "    }\n",
              "\n",
              "    .dataframe thead th {\n",
              "        text-align: right;\n",
              "    }\n",
              "</style>\n",
              "<table border=\"1\" class=\"dataframe\">\n",
              "  <thead>\n",
              "    <tr style=\"text-align: right;\">\n",
              "      <th></th>\n",
              "      <th>cosine score</th>\n",
              "      <th>names</th>\n",
              "    </tr>\n",
              "  </thead>\n",
              "  <tbody>\n",
              "    <tr>\n",
              "      <th>423</th>\n",
              "      <td>1.000</td>\n",
              "      <td>The Smiths</td>\n",
              "    </tr>\n",
              "    <tr>\n",
              "      <th>2593</th>\n",
              "      <td>0.824</td>\n",
              "      <td>Mr Hudson &amp; The Library</td>\n",
              "    </tr>\n",
              "    <tr>\n",
              "      <th>7027</th>\n",
              "      <td>0.711</td>\n",
              "      <td>Eight Legs</td>\n",
              "    </tr>\n",
              "    <tr>\n",
              "      <th>437</th>\n",
              "      <td>0.709</td>\n",
              "      <td>The Rakes</td>\n",
              "    </tr>\n",
              "    <tr>\n",
              "      <th>11793</th>\n",
              "      <td>0.707</td>\n",
              "      <td>Richard Hell and the Voidoids</td>\n",
              "    </tr>\n",
              "    <tr>\n",
              "      <th>11797</th>\n",
              "      <td>0.704</td>\n",
              "      <td>The Social</td>\n",
              "    </tr>\n",
              "  </tbody>\n",
              "</table>\n",
              "</div>"
            ],
            "text/plain": [
              "       cosine score                          names\n",
              "423           1.000                     The Smiths\n",
              "2593          0.824        Mr Hudson & The Library\n",
              "7027          0.711                     Eight Legs\n",
              "437           0.709                      The Rakes\n",
              "11793         0.707  Richard Hell and the Voidoids\n",
              "11797         0.704                     The Social"
            ]
          },
          "metadata": {
            "tags": []
          }
        }
      ]
    },
    {
      "cell_type": "markdown",
      "metadata": {
        "id": "CK5WpMNhaRnA"
      },
      "source": [
        "The regularized model has done a great job here, even recommending Morrissey to fans of The Smiths, the band with whom he was the frontman. Interestingly, the test error is actually higher than the non regulized versions while the recommendations are arguably better.\n",
        "\n",
        "This shows us that fitting the observed data often emphasizes learning high similarity (between items with lots of interactions), but a solid embedding representation also requires learning low similarity (between items with very few or no interactions)."
      ]
    },
    {
      "cell_type": "markdown",
      "metadata": {
        "id": "bknkfbX3rWAZ"
      },
      "source": [
        "Outputting the embeddings that were created in case we want them for something else\n",
        "\n"
      ]
    },
    {
      "cell_type": "code",
      "metadata": {
        "id": "TtAHZ1YMiQyy"
      },
      "source": [
        "artist_embeddings = pd.DataFrame(reg_model.embeddings[\"artistID\"])\n",
        "artist_embeddings.to_csv(\"./data_clean/artist_embeddings.csv\", sep=\",\", header=True, index=False)"
      ],
      "execution_count": null,
      "outputs": []
    },
    {
      "cell_type": "code",
      "metadata": {
        "id": "XYH_P4HQnkQ5"
      },
      "source": [
        "user_embeddings = pd.DataFrame(reg_model.embeddings[\"userId\"])\n",
        "user_embeddings.to_csv(\"./data_clean/user_embeddings.csv\", sep=\",\", header=True, index=False)"
      ],
      "execution_count": null,
      "outputs": []
    },
    {
      "cell_type": "markdown",
      "metadata": {
        "id": "5vMYXdL5txBV"
      },
      "source": [
        "In the next section, we combine what we have built here with the Spotify Web API to create a recommender system using a Spotify user's Spotify listening habits "
      ]
    }
  ]
}